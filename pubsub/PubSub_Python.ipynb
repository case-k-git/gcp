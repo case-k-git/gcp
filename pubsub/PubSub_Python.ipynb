{
 "cells": [
  {
   "cell_type": "code",
   "execution_count": 1,
   "metadata": {
    "scrolled": true
   },
   "outputs": [
    {
     "name": "stdout",
     "output_type": "stream",
     "text": [
      "Requirement already satisfied: google-cloud-pubsub in /home/keisuke_taniguchi/.pyenv/versions/miniconda3-4.3.30/lib/python3.6/site-packages (1.0.2)\n",
      "Requirement already satisfied: google-api-core[grpc]<2.0.0dev,>=1.14.0 in /home/keisuke_taniguchi/.pyenv/versions/miniconda3-4.3.30/lib/python3.6/site-packages (from google-cloud-pubsub) (1.14.3)\n",
      "Requirement already satisfied: grpc-google-iam-v1<0.13dev,>=0.12.3 in /home/keisuke_taniguchi/.pyenv/versions/miniconda3-4.3.30/lib/python3.6/site-packages (from google-cloud-pubsub) (0.12.3)\n",
      "Requirement already satisfied: protobuf>=3.4.0 in /home/keisuke_taniguchi/.pyenv/versions/miniconda3-4.3.30/lib/python3.6/site-packages (from google-api-core[grpc]<2.0.0dev,>=1.14.0->google-cloud-pubsub) (3.10.0)\n",
      "Requirement already satisfied: googleapis-common-protos<2.0dev,>=1.6.0 in /home/keisuke_taniguchi/.pyenv/versions/miniconda3-4.3.30/lib/python3.6/site-packages (from google-api-core[grpc]<2.0.0dev,>=1.14.0->google-cloud-pubsub) (1.6.0)\n",
      "Requirement already satisfied: setuptools>=34.0.0 in /home/keisuke_taniguchi/.pyenv/versions/miniconda3-4.3.30/lib/python3.6/site-packages (from google-api-core[grpc]<2.0.0dev,>=1.14.0->google-cloud-pubsub) (36.5.0.post20170921)\n",
      "Requirement already satisfied: google-auth<2.0dev,>=0.4.0 in /home/keisuke_taniguchi/.pyenv/versions/miniconda3-4.3.30/lib/python3.6/site-packages (from google-api-core[grpc]<2.0.0dev,>=1.14.0->google-cloud-pubsub) (1.6.3)\n",
      "Requirement already satisfied: six>=1.10.0 in /home/keisuke_taniguchi/.pyenv/versions/miniconda3-4.3.30/lib/python3.6/site-packages (from google-api-core[grpc]<2.0.0dev,>=1.14.0->google-cloud-pubsub) (1.10.0)\n",
      "Requirement already satisfied: requests<3.0.0dev,>=2.18.0 in /home/keisuke_taniguchi/.pyenv/versions/miniconda3-4.3.30/lib/python3.6/site-packages (from google-api-core[grpc]<2.0.0dev,>=1.14.0->google-cloud-pubsub) (2.18.4)\n",
      "Requirement already satisfied: pytz in /home/keisuke_taniguchi/.pyenv/versions/miniconda3-4.3.30/lib/python3.6/site-packages (from google-api-core[grpc]<2.0.0dev,>=1.14.0->google-cloud-pubsub) (2019.3)\n",
      "Requirement already satisfied: grpcio<2.0dev,>=1.8.2; extra == \"grpc\" in /home/keisuke_taniguchi/.pyenv/versions/miniconda3-4.3.30/lib/python3.6/site-packages (from google-api-core[grpc]<2.0.0dev,>=1.14.0->google-cloud-pubsub) (1.24.3)\n",
      "Requirement already satisfied: pyasn1-modules>=0.2.1 in /home/keisuke_taniguchi/.pyenv/versions/miniconda3-4.3.30/lib/python3.6/site-packages (from google-auth<2.0dev,>=0.4.0->google-api-core[grpc]<2.0.0dev,>=1.14.0->google-cloud-pubsub) (0.2.7)\n",
      "Requirement already satisfied: cachetools>=2.0.0 in /home/keisuke_taniguchi/.pyenv/versions/miniconda3-4.3.30/lib/python3.6/site-packages (from google-auth<2.0dev,>=0.4.0->google-api-core[grpc]<2.0.0dev,>=1.14.0->google-cloud-pubsub) (3.1.1)\n",
      "Requirement already satisfied: rsa>=3.1.4 in /home/keisuke_taniguchi/.pyenv/versions/miniconda3-4.3.30/lib/python3.6/site-packages (from google-auth<2.0dev,>=0.4.0->google-api-core[grpc]<2.0.0dev,>=1.14.0->google-cloud-pubsub) (4.0)\n",
      "Requirement already satisfied: chardet<3.1.0,>=3.0.2 in /home/keisuke_taniguchi/.pyenv/versions/miniconda3-4.3.30/lib/python3.6/site-packages (from requests<3.0.0dev,>=2.18.0->google-api-core[grpc]<2.0.0dev,>=1.14.0->google-cloud-pubsub) (3.0.4)\n",
      "Requirement already satisfied: idna<2.7,>=2.5 in /home/keisuke_taniguchi/.pyenv/versions/miniconda3-4.3.30/lib/python3.6/site-packages (from requests<3.0.0dev,>=2.18.0->google-api-core[grpc]<2.0.0dev,>=1.14.0->google-cloud-pubsub) (2.6)\n",
      "Requirement already satisfied: urllib3<1.23,>=1.21.1 in /home/keisuke_taniguchi/.pyenv/versions/miniconda3-4.3.30/lib/python3.6/site-packages (from requests<3.0.0dev,>=2.18.0->google-api-core[grpc]<2.0.0dev,>=1.14.0->google-cloud-pubsub) (1.22)\n",
      "Requirement already satisfied: certifi>=2017.4.17 in /home/keisuke_taniguchi/.pyenv/versions/miniconda3-4.3.30/lib/python3.6/site-packages (from requests<3.0.0dev,>=2.18.0->google-api-core[grpc]<2.0.0dev,>=1.14.0->google-cloud-pubsub) (2017.7.27.1)\n",
      "Requirement already satisfied: pyasn1<0.5.0,>=0.4.6 in /home/keisuke_taniguchi/.pyenv/versions/miniconda3-4.3.30/lib/python3.6/site-packages (from pyasn1-modules>=0.2.1->google-auth<2.0dev,>=0.4.0->google-api-core[grpc]<2.0.0dev,>=1.14.0->google-cloud-pubsub) (0.4.7)\n",
      "Requirement already satisfied: pandas in /home/keisuke_taniguchi/.pyenv/versions/miniconda3-4.3.30/lib/python3.6/site-packages (0.25.3)\n",
      "Requirement already satisfied: python-dateutil>=2.6.1 in /home/keisuke_taniguchi/.pyenv/versions/miniconda3-4.3.30/lib/python3.6/site-packages (from pandas) (2.8.1)\n",
      "Requirement already satisfied: numpy>=1.13.3 in /home/keisuke_taniguchi/.pyenv/versions/miniconda3-4.3.30/lib/python3.6/site-packages (from pandas) (1.17.3)\n",
      "Requirement already satisfied: pytz>=2017.2 in /home/keisuke_taniguchi/.pyenv/versions/miniconda3-4.3.30/lib/python3.6/site-packages (from pandas) (2019.3)\n",
      "Requirement already satisfied: six>=1.5 in /home/keisuke_taniguchi/.pyenv/versions/miniconda3-4.3.30/lib/python3.6/site-packages (from python-dateutil>=2.6.1->pandas) (1.10.0)\n"
     ]
    }
   ],
   "source": [
    "!pip install google-cloud-pubsub\n",
    "!pip install pandas\n",
    "# ! gcloud auth login\n",
    "# ! gcloud auth application-default login"
   ]
  },
  {
   "cell_type": "markdown",
   "metadata": {},
   "source": [
    "### Python Client for Google Cloud Pub / Sub\n",
    "https://googleapis.dev/python/pubsub/latest/index.html"
   ]
  },
  {
   "cell_type": "code",
   "execution_count": 1,
   "metadata": {},
   "outputs": [],
   "source": [
    "from google.cloud import pubsub\n",
    "import pandas as pd\n",
    "from google.cloud import pubsub_v1"
   ]
  },
  {
   "cell_type": "markdown",
   "metadata": {},
   "source": [
    "### Set options"
   ]
  },
  {
   "cell_type": "code",
   "execution_count": 26,
   "metadata": {
    "scrolled": true
   },
   "outputs": [
    {
     "name": "stdout",
     "output_type": "stream",
     "text": [
      "Created subscription [projects/jutaku-sandbox/subscriptions/my-sub3].\r\n"
     ]
    }
   ],
   "source": [
    "#!gcloud pubsub topics create my-topic3\n",
    "#!gcloud pubsub subscriptions create my-sub3 --topic my-topic2"
   ]
  },
  {
   "cell_type": "code",
   "execution_count": 38,
   "metadata": {
    "scrolled": true
   },
   "outputs": [],
   "source": [
    "topic_name = 'my-topic'\n",
    "subscription_name = 'my-subscription'\n",
    "input_path = './sensor_obs2008.csv.gz'\n",
    "project_id = ''"
   ]
  },
  {
   "cell_type": "markdown",
   "metadata": {},
   "source": [
    "###  Read Data"
   ]
  },
  {
   "cell_type": "code",
   "execution_count": 36,
   "metadata": {
    "scrolled": true
   },
   "outputs": [
    {
     "name": "stdout",
     "output_type": "stream",
     "text": [
      "Copying gs://cloud-training-demos/sandiego/sensor_obs2008.csv.gz...\n",
      "/ [1 files][ 34.6 MiB/ 34.6 MiB]                                                \n",
      "Operation completed over 1 objects/34.6 MiB.                                     \n"
     ]
    },
    {
     "data": {
      "text/html": [
       "<div>\n",
       "<style scoped>\n",
       "    .dataframe tbody tr th:only-of-type {\n",
       "        vertical-align: middle;\n",
       "    }\n",
       "\n",
       "    .dataframe tbody tr th {\n",
       "        vertical-align: top;\n",
       "    }\n",
       "\n",
       "    .dataframe thead th {\n",
       "        text-align: right;\n",
       "    }\n",
       "</style>\n",
       "<table border=\"1\" class=\"dataframe\">\n",
       "  <thead>\n",
       "    <tr style=\"text-align: right;\">\n",
       "      <th></th>\n",
       "      <th>TIMESTAMP</th>\n",
       "      <th>LATITUDE</th>\n",
       "      <th>LONGITUDE</th>\n",
       "      <th>FREEWAY_ID</th>\n",
       "      <th>FREEWAY_DIR</th>\n",
       "      <th>LANE</th>\n",
       "      <th>SPEED</th>\n",
       "    </tr>\n",
       "  </thead>\n",
       "  <tbody>\n",
       "    <tr>\n",
       "      <th>0</th>\n",
       "      <td>2008-11-01 00:00:00</td>\n",
       "      <td>32.749679</td>\n",
       "      <td>-117.155519</td>\n",
       "      <td>163</td>\n",
       "      <td>S</td>\n",
       "      <td>1</td>\n",
       "      <td>71.2</td>\n",
       "    </tr>\n",
       "    <tr>\n",
       "      <th>1</th>\n",
       "      <td>2008-11-01 00:00:00</td>\n",
       "      <td>32.749679</td>\n",
       "      <td>-117.155519</td>\n",
       "      <td>163</td>\n",
       "      <td>S</td>\n",
       "      <td>2</td>\n",
       "      <td>65.1</td>\n",
       "    </tr>\n",
       "    <tr>\n",
       "      <th>2</th>\n",
       "      <td>2008-11-01 00:00:00</td>\n",
       "      <td>32.780922</td>\n",
       "      <td>-117.089026</td>\n",
       "      <td>8</td>\n",
       "      <td>W</td>\n",
       "      <td>1</td>\n",
       "      <td>76.5</td>\n",
       "    </tr>\n",
       "    <tr>\n",
       "      <th>3</th>\n",
       "      <td>2008-11-01 00:00:00</td>\n",
       "      <td>32.780922</td>\n",
       "      <td>-117.089026</td>\n",
       "      <td>8</td>\n",
       "      <td>W</td>\n",
       "      <td>2</td>\n",
       "      <td>74.0</td>\n",
       "    </tr>\n",
       "    <tr>\n",
       "      <th>4</th>\n",
       "      <td>2008-11-01 00:00:00</td>\n",
       "      <td>32.780922</td>\n",
       "      <td>-117.089026</td>\n",
       "      <td>8</td>\n",
       "      <td>W</td>\n",
       "      <td>3</td>\n",
       "      <td>72.0</td>\n",
       "    </tr>\n",
       "  </tbody>\n",
       "</table>\n",
       "</div>"
      ],
      "text/plain": [
       "             TIMESTAMP   LATITUDE   LONGITUDE  FREEWAY_ID FREEWAY_DIR  LANE  \\\n",
       "0  2008-11-01 00:00:00  32.749679 -117.155519         163           S     1   \n",
       "1  2008-11-01 00:00:00  32.749679 -117.155519         163           S     2   \n",
       "2  2008-11-01 00:00:00  32.780922 -117.089026           8           W     1   \n",
       "3  2008-11-01 00:00:00  32.780922 -117.089026           8           W     2   \n",
       "4  2008-11-01 00:00:00  32.780922 -117.089026           8           W     3   \n",
       "\n",
       "   SPEED  \n",
       "0   71.2  \n",
       "1   65.1  \n",
       "2   76.5  \n",
       "3   74.0  \n",
       "4   72.0  "
      ]
     },
     "execution_count": 36,
     "metadata": {},
     "output_type": "execute_result"
    }
   ],
   "source": [
    "!gsutil cp gs://cloud-training-demos/sandiego/sensor_obs2008.csv.gz .\n",
    "data  =  pd.read_csv(input_path)\n",
    "data.head()"
   ]
  },
  {
   "cell_type": "markdown",
   "metadata": {},
   "source": [
    "### Publish message"
   ]
  },
  {
   "cell_type": "code",
   "execution_count": 19,
   "metadata": {
    "scrolled": true
   },
   "outputs": [
    {
     "name": "stderr",
     "output_type": "stream",
     "text": [
      "/home/keisuke_taniguchi/.pyenv/versions/miniconda3-4.3.30/lib/python3.6/site-packages/google/auth/_default.py:66: UserWarning: Your application has authenticated using end user credentials from Google Cloud SDK. We recommend that most server applications use service accounts instead. If your application continues to use end user credentials from Cloud SDK, you might receive a \"quota exceeded\" or \"API not enabled\" error. For more information about service accounts, see https://cloud.google.com/docs/authentication/\n",
      "  warnings.warn(_CLOUD_SDK_CREDENTIALS_WARNING)\n"
     ]
    },
    {
     "data": {
      "text/plain": [
       "name: \"projects/jutaku-sandbox/topics/my-topic2\""
      ]
     },
     "execution_count": 19,
     "metadata": {},
     "output_type": "execute_result"
    }
   ],
   "source": [
    "publisher = pubsub_v1.PublisherClient()\n",
    "#topic_path = publisher.topic_path(project_id, topic_name)\n",
    "topic_name = 'projects/{project_id}/topics/{topic}'.format(\n",
    "    project_id=project_id,\n",
    "    topic=topic_name,  # Set this to something appropriate.\n",
    ")\n",
    "publisher.create_topic(topic_name)"
   ]
  },
  {
   "cell_type": "code",
   "execution_count": 34,
   "metadata": {
    "scrolled": true
   },
   "outputs": [
    {
     "name": "stdout",
     "output_type": "stream",
     "text": [
      "b\"['2008-11-01 00:00:00', 32.749679, -117.155519, 163, 'S', 1, 71.2]\"\n",
      "b\"['2008-11-01 00:00:00', 32.749679, -117.155519, 163, 'S', 2, 65.1]\"\n",
      "b\"['2008-11-01 00:00:00', 32.780922, -117.089026, 8, 'W', 1, 76.5]\"\n",
      "b\"['2008-11-01 00:00:00', 32.780922, -117.089026, 8, 'W', 2, 74.0]\"\n",
      "b\"['2008-11-01 00:00:00', 32.780922, -117.089026, 8, 'W', 3, 72.0]\"\n",
      "b\"['2008-11-01 00:00:00', 32.780922, -117.089026, 8, 'W', 4, 66.8]\"\n",
      "b\"['2008-11-01 00:00:00', 32.780922, -117.089026, 8, 'W', 5, 64.5]\"\n",
      "b\"['2008-11-01 00:00:00', 32.779415, -117.06815, 8, 'W', 1, 76.5]\"\n",
      "b\"['2008-11-01 00:00:00', 32.779415, -117.06815, 8, 'W', 2, 72.3]\"\n",
      "b\"['2008-11-01 00:00:00', 32.779415, -117.06815, 8, 'W', 3, 72.0]\"\n",
      "b\"['2008-11-01 00:00:00', 32.749679, -117.155519, 163, 'S', 1, 71.2]\"b\"['2008-11-01 00:00:00', 32.749679, -117.155519, 163, 'S', 2, 65.1]\"\n",
      "b\"['2008-11-01 00:00:00', 32.780922, -117.089026, 8, 'W', 1, 76.5]\"\n",
      "b\"['2008-11-01 00:00:00', 32.780922, -117.089026, 8, 'W', 2, 74.0]\"\n",
      "b\"['2008-11-01 00:00:00', 32.780922, -117.089026, 8, 'W', 3, 72.0]\"\n",
      "b\"['2008-11-01 00:00:00', 32.780922, -117.089026, 8, 'W', 4, 66.8]\"\n",
      "b\"['2008-11-01 00:00:00', 32.780922, -117.089026, 8, 'W', 5, 64.5]\"\n",
      "b\"['2008-11-01 00:00:00', 32.779415, -117.06815, 8, 'W', 1, 76.5]\"\n",
      "b\"['2008-11-01 00:00:00', 32.779415, -117.06815, 8, 'W', 2, 72.3]\"\n",
      "b\"['2008-11-01 00:00:00', 32.779415, -117.06815, 8, 'W', 3, 72.0]\"\n",
      "\n"
     ]
    }
   ],
   "source": [
    "for i , v in data.head(10).iterrows():\n",
    "    message = str(list(v.values)).encode('utf-8')\n",
    "    future = publisher.publish(topic_name, data=message)\n",
    "    print(message)"
   ]
  },
  {
   "cell_type": "markdown",
   "metadata": {},
   "source": [
    "### Subscribe message"
   ]
  },
  {
   "cell_type": "code",
   "execution_count": 28,
   "metadata": {
    "scrolled": true
   },
   "outputs": [
    {
     "name": "stderr",
     "output_type": "stream",
     "text": [
      "/home/keisuke_taniguchi/.pyenv/versions/miniconda3-4.3.30/lib/python3.6/site-packages/google/auth/_default.py:66: UserWarning: Your application has authenticated using end user credentials from Google Cloud SDK. We recommend that most server applications use service accounts instead. If your application continues to use end user credentials from Cloud SDK, you might receive a \"quota exceeded\" or \"API not enabled\" error. For more information about service accounts, see https://cloud.google.com/docs/authentication/\n",
      "  warnings.warn(_CLOUD_SDK_CREDENTIALS_WARNING)\n"
     ]
    },
    {
     "data": {
      "text/plain": [
       "name: \"projects/jutaku-sandbox/subscriptions/my-subscription4\"\n",
       "topic: \"projects/jutaku-sandbox/topics/my-topic2\"\n",
       "push_config {\n",
       "}\n",
       "ack_deadline_seconds: 10\n",
       "message_retention_duration {\n",
       "  seconds: 604800\n",
       "}\n",
       "expiration_policy {\n",
       "  ttl {\n",
       "    seconds: 2678400\n",
       "  }\n",
       "}"
      ]
     },
     "execution_count": 28,
     "metadata": {},
     "output_type": "execute_result"
    }
   ],
   "source": [
    "subscriber = pubsub_v1.SubscriberClient()\n",
    "subscription_name = 'projects/{project_id}/subscriptions/{sub}'.format(\n",
    "    project_id=project_id,\n",
    "    sub=subscription_name ,  # Set this to something appropriate.\n",
    ")\n",
    "subscriber.create_subscription(\n",
    "    name=subscription_name, topic=topic_name)"
   ]
  },
  {
   "cell_type": "code",
   "execution_count": 35,
   "metadata": {
    "scrolled": true
   },
   "outputs": [
    {
     "name": "stdout",
     "output_type": "stream",
     "text": [
      "b\"['2008-11-01 00:00:00', 32.749679, -117.155519, 163, 'S', 1, 71.2]\"\n",
      "b\"['2008-11-01 00:00:00', 32.749679, -117.155519, 163, 'S', 2, 65.1]\"\n",
      "b\"['2008-11-01 00:00:00', 32.780922, -117.089026, 8, 'W', 1, 76.5]\"\n",
      "b\"['2008-11-01 00:00:00', 32.780922, -117.089026, 8, 'W', 2, 74.0]\"\n",
      "b\"['2008-11-01 00:00:00', 32.780922, -117.089026, 8, 'W', 3, 72.0]\"\n",
      "b\"['2008-11-01 00:00:00', 32.780922, -117.089026, 8, 'W', 4, 66.8]\"\n",
      "b\"['2008-11-01 00:00:00', 32.780922, -117.089026, 8, 'W', 5, 64.5]\"\n",
      "b\"['2008-11-01 00:00:00', 32.779415, -117.06815, 8, 'W', 1, 76.5]\"\n",
      "b\"['2008-11-01 00:00:00', 32.779415, -117.06815, 8, 'W', 2, 72.3]\"\n",
      "b\"['2008-11-01 00:00:00', 32.779415, -117.06815, 8, 'W', 3, 72.0]\"\n",
      "b\"['2008-11-01 00:00:00', 32.749679, -117.155519, 163, 'S', 1, 71.2]\"b\"['2008-11-01 00:00:00', 32.749679, -117.155519, 163, 'S', 2, 65.1]\"b\"['2008-11-01 00:00:00', 32.780922, -117.089026, 8, 'W', 1, 76.5]\"\n",
      "b\"['2008-11-01 00:00:00', 32.780922, -117.089026, 8, 'W', 2, 74.0]\"\n",
      "b\"['2008-11-01 00:00:00', 32.780922, -117.089026, 8, 'W', 3, 72.0]\"\n",
      "b\"['2008-11-01 00:00:00', 32.780922, -117.089026, 8, 'W', 4, 66.8]\"\n",
      "b\"['2008-11-01 00:00:00', 32.780922, -117.089026, 8, 'W', 5, 64.5]\"\n",
      "b\"['2008-11-01 00:00:00', 32.779415, -117.06815, 8, 'W', 1, 76.5]\"\n",
      "b\"['2008-11-01 00:00:00', 32.779415, -117.06815, 8, 'W', 2, 72.3]\"\n",
      "b\"['2008-11-01 00:00:00', 32.779415, -117.06815, 8, 'W', 3, 72.0]\"\n",
      "\n",
      "\n"
     ]
    }
   ],
   "source": [
    "def callback(message):\n",
    "    print(message.data)\n",
    "    message.ack()\n",
    "future = subscriber.subscribe(subscription_name, callback)"
   ]
  }
 ],
 "metadata": {
  "kernelspec": {
   "display_name": "Python 3",
   "language": "python",
   "name": "python3"
  },
  "language_info": {
   "codemirror_mode": {
    "name": "ipython",
    "version": 3
   },
   "file_extension": ".py",
   "mimetype": "text/x-python",
   "name": "python",
   "nbconvert_exporter": "python",
   "pygments_lexer": "ipython3",
   "version": "3.6.3"
  }
 },
 "nbformat": 4,
 "nbformat_minor": 2
}
