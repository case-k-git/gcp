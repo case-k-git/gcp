{
 "cells": [
  {
   "cell_type": "code",
   "execution_count": null,
   "metadata": {},
   "outputs": [],
   "source": [
    "# -*- coding: utf-8 -*-\n",
    "import apache_beam as beam\n",
    "from apache_beam.options.pipeline_options import PipelineOptions\n",
    "\n",
    "# プロジェクトID\n",
    "PROJECTID = ''\n",
    "\n",
    "# オプション設定\n",
    "class MyOptions(PipelineOptions):\n",
    "    PROJECTID = ''\n",
    "    @classmethod  \n",
    "    def _add_argparse_args(cls, parser):\n",
    "        #parser.add_argument('--input',\n",
    "        #                    help='Input for the pipeline',\n",
    "        #                    default='gs://{}/sample2.csv'.format(PROJECTID))\n",
    "        # parser.add_argument('--output',\n",
    "        #                    help='Output for the pipeline',\n",
    "        #                    default='gs://{}/output/sample2.csv'.format(PROJECTID))\n",
    "        \n",
    "        # 実行時に指定するパラメータ\n",
    "        parser.add_value_provider_argument('--inputFile',\n",
    "                            help='InputFile for the pipeline',\n",
    "                            default='gs://{}/output/sample1016.csv'.format(PROJECTID))\n",
    "        parser.add_value_provider_argument('--outputFile',\n",
    "                            help='OutputFile for the pipeline',\n",
    "                            default='gs://{}/output/sample1006.csv'.format(PROJECTID))\n",
    "            \n",
    "# オプション設定\n",
    "myoptions = MyOptions()\n",
    "options = beam.options.pipeline_options.PipelineOptions(options=myoptions)\n",
    "\n",
    "# GCP関連オプション\n",
    "gcloud_options = options.view_as(\n",
    "  beam.options.pipeline_options.GoogleCloudOptions)\n",
    "gcloud_options.project = PROJECTID\n",
    "gcloud_options.job_name = 'job1016'\n",
    "gcloud_options.staging_location = 'gs://{}/staging'.format(PROJECTID)\n",
    "gcloud_options.temp_location = 'gs://{}/tem'.format(PROJECTID)\n",
    "\n",
    "# テンプレート配置\n",
    "#gcloud_options.template_location = 'gs://{}/template/{}/-twproc_tmp'.format(PROJECTID,PROJECTID)\n",
    "#gcloud_options.template_location = 'gs888/{}/template/-twproc_tmp2'.format(PROJECTID)\n",
    "gcloud_options.template_location = 'gs://{}/template/GCS_TO_GCS_5'.format(PROJECTID)\n",
    "\n",
    "# 標準オプション（実行環境を設定）\n",
    "std_options = options.view_as(\n",
    "  beam.options.pipeline_options.StandardOptions)\n",
    "std_options.runner = 'DataflowRunner'\n",
    "\n",
    "p = beam.Pipeline(options=options)\n",
    "( p | 'read' >> beam.io.ReadFromText(myoptions.inputFile) \n",
    "   | 'write' >> beam.io.WriteToText(myoptions.outputFile,num_shards=1,shard_name_template=''))\n",
    "p.run()"
   ]
  }
 ],
 "metadata": {
  "kernelspec": {
   "display_name": "Python 3",
   "language": "python",
   "name": "python3"
  },
  "language_info": {
   "codemirror_mode": {
    "name": "ipython",
    "version": 3
   },
   "file_extension": ".py",
   "mimetype": "text/x-python",
   "name": "python",
   "nbconvert_exporter": "python",
   "pygments_lexer": "ipython3",
   "version": "3.6.3"
  }
 },
 "nbformat": 4,
 "nbformat_minor": 2
}
